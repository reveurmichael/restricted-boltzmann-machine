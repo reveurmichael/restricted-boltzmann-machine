{
 "cells": [
  {
   "cell_type": "code",
   "execution_count": 318,
   "metadata": {
    "pycharm": {
     "name": "#%%\n"
    }
   },
   "outputs": [
    {
     "data": {
      "text/plain": [
       "<module 'regression' from '../source/regression.py'>"
      ]
     },
     "execution_count": 318,
     "metadata": {},
     "output_type": "execute_result"
    }
   ],
   "source": [
    "import sys\n",
    "sys.path.append('../source/')\n",
    "sys.path.append('../utilities/')\n",
    "import numpy as np\n",
    "import bm,glm\n",
    "from float_precision import curr_float,curr_int\n",
    "import matplotlib.pyplot as plt\n",
    "%matplotlib inline"
   ]
  },
  {
   "cell_type": "markdown",
   "metadata": {
    "pycharm": {
     "name": "#%% md\n"
    }
   },
   "source": [
    "# Generate data from a pairwise Ising or Potts model"
   ]
  },
  {
   "cell_type": "code",
   "execution_count": 329,
   "metadata": {
    "pycharm": {
     "name": "#%%\n"
    }
   },
   "outputs": [],
   "source": [
    "B = 50000\n",
    "N = 10\n",
    "n_c = 5\n",
    "nature = 'Potts'\n",
    "BM = bm.BM(N=N,n_c=n_c,nature=nature)\n",
    "\n",
    "h  = 0.5 * np.squeeze(np.array(np.random.randn(N,n_c),dtype=curr_float ) )\n",
    "J = 0.5 * np.squeeze(np.array(np.random.randn(N,N,n_c,n_c) ,dtype=curr_float ))\n",
    "if n_c>1:\n",
    "    J += np.swapaxes(np.swapaxes(J,0,1),2,3)\n",
    "    J = np.asarray(J,order='c')\n",
    "else:\n",
    "    J += J.T\n",
    "    J[np.arange(N),np.arange(N)] *=0\n",
    "\n",
    "BM.layer.fields = h\n",
    "BM.layer.couplings = J \n",
    "\n",
    "data = BM.gen_data(Nthermalize = 1000, Nstep=50,Nchains=10,Lchains=B//10)\n"
   ]
  },
  {
   "cell_type": "markdown",
   "metadata": {
    "pycharm": {
     "name": "#%% md\n"
    }
   },
   "source": [
    "# Perform pseudo-likelihood inference"
   ]
  },
  {
   "cell_type": "code",
   "execution_count": 340,
   "metadata": {
    "pycharm": {
     "name": "#%%\n"
    }
   },
   "outputs": [
    {
     "name": "stdout",
     "output_type": "stream",
     "text": [
      "Starting epoch 1\n",
      "Iteration 1, time = 0.91s, likelihood = -0.71, regularization  = 3.09e-03, loss = 0.72\n",
      "Starting epoch 2\n",
      "Iteration 2, time = 0.89s, likelihood = -0.70, regularization  = 2.55e-03, loss = 0.70\n",
      "Starting epoch 3\n",
      "Iteration 3, time = 0.90s, likelihood = -0.70, regularization  = 2.53e-03, loss = 0.70\n",
      "Starting epoch 4\n",
      "Iteration 4, time = 0.99s, likelihood = -0.69, regularization  = 2.66e-03, loss = 0.69\n",
      "Starting epoch 5\n",
      "Iteration 5, time = 1.05s, likelihood = -0.70, regularization  = 2.31e-03, loss = 0.70\n",
      "Starting epoch 6\n",
      "Iteration 6, time = 0.94s, likelihood = -0.69, regularization  = 2.50e-03, loss = 0.70\n",
      "Starting epoch 7\n",
      "Iteration 7, time = 1.01s, likelihood = -0.70, regularization  = 2.22e-03, loss = 0.70\n",
      "Starting epoch 8\n",
      "Iteration 8, time = 1.22s, likelihood = -0.70, regularization  = 2.28e-03, loss = 0.70\n",
      "Starting epoch 9\n",
      "Iteration 9, time = 1.42s, likelihood = -0.70, regularization  = 2.28e-03, loss = 0.70\n",
      "Starting epoch 10\n",
      "Iteration 10, time = 0.94s, likelihood = -0.69, regularization  = 2.38e-03, loss = 0.69\n"
     ]
    },
    {
     "data": {
      "text/plain": [
       "'done'"
      ]
     },
     "execution_count": 340,
     "metadata": {},
     "output_type": "execute_result"
    }
   ],
   "source": [
    "if nature == 'Potts':\n",
    "    diagonal_mask = np.zeros([N,N,n_c,n_c],dtype=curr_float)\n",
    "    diagonal_mask[np.arange(N),np.arange(N),:,:] += 1\n",
    "    all_mask = np.ones([N,N,n_c,n_c],dtype=curr_float)\n",
    "else:\n",
    "    diagonal_mask = np.eye(N,dtype=curr_float)\n",
    "    all_mask = np.ones([N,N],dtype=curr_float)    \n",
    "    \n",
    "l2_plm = [('l2','weights',diagonal_mask * 10+all_mask * 0)]\n",
    "\n",
    "# For predicting the pseudo-likelihood we formally regress each v_i against all v (including itself),\n",
    "# but with a strong regularization in the diagonal J_{ii} so as to avoid using v_i.\n",
    "\n",
    "GLM = glm.GLM(nature=nature,Nin=N,Nout=N,n_cin=n_c,n_cout=n_c)\n",
    "GLM.fit(data,data,regularizers=l2_plm,learning_rate=5e-4,optimizer='ADAM',n_iter=10)"
   ]
  },
  {
   "cell_type": "markdown",
   "metadata": {
    "pycharm": {
     "name": "#%% md\n"
    }
   },
   "source": [
    "# Compare couplings"
   ]
  },
  {
   "cell_type": "code",
   "execution_count": 341,
   "metadata": {
    "pycharm": {
     "name": "#%%\n"
    }
   },
   "outputs": [
    {
     "data": {
      "image/png": "[encoded data removed]",
      "text/plain": [
       "<Figure size 432x288 with 1 Axes>"
      ]
     },
     "metadata": {
      "needs_background": "light"
     },
     "output_type": "display_data"
    },
    {
     "data": {
      "image/png": "[encoded data removed]",
      "text/plain": [
       "<Figure size 432x288 with 1 Axes>"
      ]
     },
     "metadata": {
      "needs_background": "light"
     },
     "output_type": "display_data"
    }
   ],
   "source": [
    "plt.scatter(J,GLM.weights);\n",
    "plt.plot([J.min(),J.max()],[J.min(),J.max()],c='C1')\n",
    "plt.xlabel('J_BM'); plt.ylabel('J_PLM');\n",
    "plt.title('Coupling inference'); plt.show()\n",
    "\n",
    "plt.scatter(h,GLM.output_layer.fields); \n",
    "plt.plot([h.min(),h.max()],[h.min(),h.max()],c='C1')\n",
    "plt.xlabel('h_BM'); plt.ylabel('h_PLM');\n",
    "plt.title('field'); plt.show()\n"
   ]
  }
 ],
 "metadata": {
  "kernelspec": {
   "display_name": "Python 3 (conda)",
   "language": "python",
   "name": "python3"
  },
  "language_info": {
   "codemirror_mode": {
    "name": "ipython",
    "version": 3
   },
   "file_extension": ".py",
   "mimetype": "text/x-python",
   "name": "python",
   "nbconvert_exporter": "python",
   "pygments_lexer": "ipython3",
   "version": "3.6.8"
  }
 },
 "nbformat": 4,
 "nbformat_minor": 2
}